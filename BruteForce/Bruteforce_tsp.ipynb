{
  "cells": [
    {
      "cell_type": "code",
      "execution_count": null,
      "metadata": {
        "colab": {
          "base_uri": "https://localhost:8080/"
        },
        "id": "7ebhr9HVca62",
        "outputId": "bc0ea476-2e2e-47c7-9172-112a2a7b9da5"
      },
      "outputs": [
        {
          "output_type": "stream",
          "name": "stdout",
          "text": [
            "Best Path: (0, 3, 1, 2, 4, 6, 7, 5, 0)\n",
            "Shortest Distance: 1818.763752608714\n"
          ]
        }
      ],
      "source": [
        "import itertools\n",
        "\n",
        "#reading file here\n",
        "distance_file_path = \"/content/8_city_matrix.txt\"\n",
        "with open(distance_file_path, 'r') as file_obj:\n",
        "    distance_matrix = [[float(num) for num in line.split()] for line in file_obj]\n",
        "\n",
        "total_cities = len(distance_matrix)\n",
        "\n",
        "# making all possible permutations of cities vist\n",
        "city_permutations = itertools.permutations(range(total_cities))\n",
        "\n",
        "\n",
        "best_path = None\n",
        "shortest_distance = float('inf')\n",
        "#iterating each path\n",
        "for city_permutation in city_permutations:\n",
        "    city_permutation = city_permutation + (city_permutation[0],)  # returning to start city\n",
        "    total_distance = sum(distance_matrix[city_permutation[i]][city_permutation[i + 1]] for i in range(total_cities))\n",
        "    if total_distance < shortest_distance:\n",
        "        shortest_distance = total_distance\n",
        "        best_path = city_permutation\n",
        "\n",
        "\n",
        "print(\"Best Path:\", best_path)\n",
        "print(\"Shortest Distance:\", shortest_distance)\n"
      ]
    }
  ],
  "metadata": {
    "interpreter": {
      "hash": "b6e66f5b7dd30519e522d238cc77648fcf0517b95e3943f8a24c96d98e75c6c1"
    },
    "kernelspec": {
      "display_name": "Python 3.9.2 64-bit",
      "name": "python3"
    },
    "language_info": {
      "codemirror_mode": {
        "name": "ipython",
        "version": 3
      },
      "file_extension": ".py",
      "mimetype": "text/x-python",
      "name": "python",
      "nbconvert_exporter": "python",
      "pygments_lexer": "ipython3",
      "version": "3.10.0"
    },
    "orig_nbformat": 4,
    "colab": {
      "provenance": []
    }
  },
  "nbformat": 4,
  "nbformat_minor": 0
}