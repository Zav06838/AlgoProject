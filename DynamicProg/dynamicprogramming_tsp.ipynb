{
  "cells": [
    {
      "cell_type": "code",
      "source": [
        "#this function is supposed to convert tsp files given by the world data into 2d array of distances to be used for brute force and dynamic programming methon.\n",
        "#EA directly take tsp file and handles conversion to distance matrix iteself in code\n",
        "import itertools\n",
        "import time\n",
        "import math\n",
        "# function to calculate Euclidean distance between two points\n",
        "def dist(p1, p2):\n",
        "    return math.sqrt((p1[0] - p2[0]) ** 2 + ((p1[1] - p2[1]) ** 2))\n",
        "\n",
        "# read in city coordinates from file\n",
        "filename = '/content/wi29.tsp'\n",
        "points = []\n",
        "with open(filename, 'r') as f:\n",
        "    for line in f:\n",
        "        if line.startswith('NODE_COORD_SECTION'):\n",
        "            for line in f:\n",
        "                if line.startswith('EOF'):\n",
        "                    break\n",
        "                else:\n",
        "                    idx, x, y = line.split()\n",
        "                    points.append((float(x), float(y)))\n",
        "\n",
        "# calculate distance matrix\n",
        "n = len(points)\n",
        "dist_matrix = [[0] * n for _ in range(n)]\n",
        "for i in range(n):\n",
        "    for j in range(i+1, n):\n",
        "        d = dist(points[i], points[j])\n",
        "        dist_matrix[i][j] = d\n",
        "        dist_matrix[j][i] = d\n",
        "\n",
        "\n",
        "with open('20_city_matrix.txt', 'w') as f:\n",
        "    for i in range(n):\n",
        "        f.write(' '.join(map(str, dist_matrix[i])) + '\\n')"
      ],
      "metadata": {
        "id": "pZ-tcsmpyxbo"
      },
      "execution_count": 2,
      "outputs": []
    },
    {
      "cell_type": "code",
      "source": [
        "#source https://www.geeksforgeeks.org/travelling-salesman-problem-using-dynamic-programming/\n",
        "def read_distances(filename):\n",
        "    with open(filename, 'r') as file:\n",
        "        distances = []\n",
        "        for line in file:\n",
        "            distances.append([float(x) for x in line.strip().split()])\n",
        "    return distances\n",
        "\n",
        "\n",
        "dist = read_distances(\"/content/15_city_matrix.txt\")\n",
        "\n",
        "\n",
        "\n",
        "n = len(dist)\n",
        "\n",
        "memo = [[-1] * (1 << n) for _ in range(n)]\n",
        "\n",
        "def fun(i, mask):\n",
        "    if mask == (1 << n) - 1:\n",
        "        return dist[i][0]\n",
        "\n",
        "    if memo[i][mask] != -1:\n",
        "        return memo[i][mask]\n",
        "\n",
        "    res = float('inf')\n",
        "\n",
        "    for j in range(n):\n",
        "        if (mask & (1 << j)) == 0:\n",
        "            res = min(res, fun(j, mask | (1 << j)) + dist[i][j])\n",
        "\n",
        "    memo[i][mask] = res\n",
        "    return res\n",
        "\n",
        "ans = float('inf')\n",
        "for i in range(1, n):\n",
        "    ans = min(ans, fun(i, 1 << i) + dist[0][i])\n",
        "\n",
        "print(\"Optimal Solution\", ans)\n"
      ],
      "metadata": {
        "id": "4xIR0DJQcA1Q",
        "colab": {
          "base_uri": "https://localhost:8080/"
        },
        "outputId": "b928a293-c15e-49dd-86c7-eed097acdf4c"
      },
      "execution_count": 1,
      "outputs": [
        {
          "output_type": "stream",
          "name": "stdout",
          "text": [
            "Optimal Solution 19269.93599779425\n"
          ]
        }
      ]
    }
  ],
  "metadata": {
    "kernelspec": {
      "display_name": "Python 3",
      "language": "python",
      "name": "python3"
    },
    "language_info": {
      "codemirror_mode": {
        "name": "ipython",
        "version": 3
      },
      "file_extension": ".py",
      "mimetype": "text/x-python",
      "name": "python",
      "nbconvert_exporter": "python",
      "pygments_lexer": "ipython3",
      "version": "3.10.0"
    },
    "orig_nbformat": 4,
    "colab": {
      "provenance": []
    }
  },
  "nbformat": 4,
  "nbformat_minor": 0
}